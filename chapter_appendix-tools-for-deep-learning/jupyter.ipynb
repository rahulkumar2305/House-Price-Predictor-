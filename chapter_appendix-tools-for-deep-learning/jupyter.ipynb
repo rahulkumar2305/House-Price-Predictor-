{
  "cells": [
    {
      "cell_type": "markdown",
      "metadata": {
        "id": "view-in-github",
        "colab_type": "text"
      },
      "source": [
        "<a href=\"https://colab.research.google.com/github/rahulkumar2305/House-Price-Predictor-/blob/main/chapter_appendix-tools-for-deep-learning/jupyter.ipynb\" target=\"_parent\"><img src=\"https://colab.research.google.com/assets/colab-badge.svg\" alt=\"Open In Colab\"/></a>"
      ]
    },
    {
      "cell_type": "markdown",
      "source": [
        " **CDA 305 ( ARTIFICIAL INTELLIGENCE )**\n",
        "\n",
        "\n",
        "\n",
        "** RAHUL KUMAR**\n",
        "\n",
        " rahul_2312res485@iitp.ac.in"
      ],
      "metadata": {
        "id": "rjOcTCSBarpH"
      },
      "id": "rjOcTCSBarpH"
    },
    {
      "cell_type": "code",
      "source": [
        "import numpy as np\n",
        "import random\n",
        "from collections import deque\n",
        "import time\n",
        "from IPython.display import display, Markdown\n",
        "\n",
        "class Puzzle8:\n",
        "    def __init__(self):\n",
        "        self.target = np.array([[1, 2, 3], [4, 5, 6], [7, 8, 0]])\n",
        "        self.moves = {'up': (-1, 0), 'down': (1, 0), 'left': (0, -1), 'right': (0, 1)}\n",
        "\n",
        "    def generate_random_grid(self):\n",
        "        \"\"\"Generate a random 3x3 grid with numbers 1-8 and blank (0)\"\"\"\n",
        "        numbers = list(range(1, 9)) + [0]  # 0 represents blank\n",
        "        random.shuffle(numbers)\n",
        "        return np.array(numbers).reshape(3, 3)\n",
        "\n",
        "    def find_blank(self, grid):\n",
        "        \"\"\"Find the position of the blank space (0)\"\"\"\n",
        "        return np.argwhere(grid == 0)[0]\n",
        "\n",
        "    def is_valid_move(self, pos):\n",
        "        \"\"\"Check if a position is valid within 3x3 grid\"\"\"\n",
        "        return 0 <= pos[0] < 3 and 0 <= pos[1] < 3\n",
        "\n",
        "    def get_neighbors(self, grid):\n",
        "        \"\"\"Get all possible next states from current grid\"\"\"\n",
        "        blank_pos = self.find_blank(grid)\n",
        "        neighbors = []\n",
        "\n",
        "        for move_name, (dx, dy) in self.moves.items():\n",
        "            new_pos = (blank_pos[0] + dx, blank_pos[1] + dy)\n",
        "\n",
        "            if self.is_valid_move(new_pos):\n",
        "                new_grid = grid.copy()\n",
        "                # Swap blank with adjacent tile\n",
        "                new_grid[blank_pos[0], blank_pos[1]] = new_grid[new_pos[0], new_pos[1]]\n",
        "                new_grid[new_pos[0], new_pos[1]] = 0\n",
        "                neighbors.append(new_grid)\n",
        "\n",
        "        return neighbors\n",
        "\n",
        "    def grid_to_tuple(self, grid):\n",
        "        \"\"\"Convert grid to hashable tuple for visited set\"\"\"\n",
        "        return tuple(map(tuple, grid))\n",
        "\n",
        "    def is_solved(self, grid):\n",
        "        \"\"\"Check if grid matches target\"\"\"\n",
        "        return np.array_equal(grid, self.target)\n",
        "\n",
        "    def bfs(self, start_grid):\n",
        "        \"\"\"Breadth-First Search implementation\"\"\"\n",
        "        queue = deque([(start_grid, [])])\n",
        "        visited = set()\n",
        "        visited.add(self.grid_to_tuple(start_grid))\n",
        "        nodes_expanded = 0\n",
        "\n",
        "        while queue:\n",
        "            current_grid, path = queue.popleft()\n",
        "            nodes_expanded += 1\n",
        "\n",
        "            if self.is_solved(current_grid):\n",
        "                return path, nodes_expanded, len(visited)\n",
        "\n",
        "            for neighbor in self.get_neighbors(current_grid):\n",
        "                neighbor_tuple = self.grid_to_tuple(neighbor)\n",
        "                if neighbor_tuple not in visited:\n",
        "                    visited.add(neighbor_tuple)\n",
        "                    queue.append((neighbor, path + [neighbor]))\n",
        "\n",
        "        return None, nodes_expanded, len(visited)\n",
        "\n",
        "    def dfs(self, start_grid, max_depth=1000):\n",
        "        \"\"\"Depth-First Search implementation with depth limit\"\"\"\n",
        "        stack = [(start_grid, [])]\n",
        "        visited = set()\n",
        "        visited.add(self.grid_to_tuple(start_grid))\n",
        "        nodes_expanded = 0\n",
        "\n",
        "        while stack:\n",
        "            current_grid, path = stack.pop()\n",
        "            nodes_expanded += 1\n",
        "\n",
        "            if self.is_solved(current_grid):\n",
        "                return path, nodes_expanded, len(visited)\n",
        "\n",
        "            if len(path) < max_depth:\n",
        "                for neighbor in reversed(self.get_neighbors(current_grid)):  # Reverse for DFS order\n",
        "                    neighbor_tuple = self.grid_to_tuple(neighbor)\n",
        "                    if neighbor_tuple not in visited:\n",
        "                        visited.add(neighbor_tuple)\n",
        "                        stack.append((neighbor, path + [neighbor]))\n",
        "\n",
        "        return None, nodes_expanded, len(visited)\n",
        "\n",
        "# Test the implementation\n",
        "puzzle = Puzzle8()\n",
        "\n",
        "# Generate random grid\n",
        "start_grid = puzzle.generate_random_grid()\n",
        "print(\"Start Grid:\")\n",
        "print(start_grid)\n",
        "print(\"\\nTarget Grid:\")\n",
        "print(puzzle.target)"
      ],
      "metadata": {
        "id": "xNyPVToOagkN",
        "outputId": "ee12e52f-bd83-409c-dc4a-d6102a969a1b",
        "colab": {
          "base_uri": "https://localhost:8080/"
        }
      },
      "id": "xNyPVToOagkN",
      "execution_count": 1,
      "outputs": [
        {
          "output_type": "stream",
          "name": "stdout",
          "text": [
            "Start Grid:\n",
            "[[7 2 3]\n",
            " [5 4 8]\n",
            " [1 0 6]]\n",
            "\n",
            "Target Grid:\n",
            "[[1 2 3]\n",
            " [4 5 6]\n",
            " [7 8 0]]\n"
          ]
        }
      ]
    },
    {
      "cell_type": "code",
      "source": [
        "def compare_algorithms(puzzle, start_grid, num_trials=5):\n",
        "    \"\"\"Compare BFS and DFS performance\"\"\"\n",
        "    bfs_results = []\n",
        "    dfs_results = []\n",
        "\n",
        "    for i in range(num_trials):\n",
        "        if i > 0:  # Use different grids for each trial\n",
        "            start_grid = puzzle.generate_random_grid()\n",
        "\n",
        "        # BFS\n",
        "        start_time = time.time()\n",
        "        bfs_path, bfs_nodes, bfs_visited = puzzle.bfs(start_grid)\n",
        "        bfs_time = time.time() - start_time\n",
        "\n",
        "        # DFS\n",
        "        start_time = time.time()\n",
        "        dfs_path, dfs_nodes, dfs_visited = puzzle.dfs(start_grid)\n",
        "        dfs_time = time.time() - start_time\n",
        "\n",
        "        bfs_results.append({\n",
        "            'solvable': bfs_path is not None,\n",
        "            'steps': len(bfs_path) if bfs_path else 0,\n",
        "            'nodes': bfs_nodes,\n",
        "            'visited': bfs_visited,\n",
        "            'time': bfs_time\n",
        "        })\n",
        "\n",
        "        dfs_results.append({\n",
        "            'solvable': dfs_path is not None,\n",
        "            'steps': len(dfs_path) if dfs_path else 0,\n",
        "            'nodes': dfs_nodes,\n",
        "            'visited': dfs_visited,\n",
        "            'time': dfs_time\n",
        "        })\n",
        "\n",
        "    return bfs_results, dfs_results\n",
        "\n",
        "# Run comparison\n",
        "bfs_results, dfs_results = compare_algorithms(puzzle, start_grid)\n",
        "\n",
        "# Display results\n",
        "display(Markdown(\"## Comparison Results\"))\n",
        "for i in range(len(bfs_results)):\n",
        "    display(Markdown(f\"### Trial {i+1}\"))\n",
        "    display(Markdown(f\"**BFS**: Steps: {bfs_results[i]['steps']}, Nodes: {bfs_results[i]['nodes']}, Time: {bfs_results[i]['time']:.4f}s\"))\n",
        "    display(Markdown(f\"**DFS**: Steps: {dfs_results[i]['steps']}, Nodes: {dfs_results[i]['nodes']}, Time: {dfs_results[i]['time']:.4f}s\"))"
      ],
      "metadata": {
        "id": "fcZ3RcxKbT1k",
        "outputId": "77386ff6-035a-4ce3-f052-0088e66accb1",
        "colab": {
          "base_uri": "https://localhost:8080/",
          "height": 483
        }
      },
      "id": "fcZ3RcxKbT1k",
      "execution_count": 2,
      "outputs": [
        {
          "output_type": "display_data",
          "data": {
            "text/plain": [
              "<IPython.core.display.Markdown object>"
            ],
            "text/markdown": "## Comparison Results"
          },
          "metadata": {}
        },
        {
          "output_type": "display_data",
          "data": {
            "text/plain": [
              "<IPython.core.display.Markdown object>"
            ],
            "text/markdown": "### Trial 1"
          },
          "metadata": {}
        },
        {
          "output_type": "display_data",
          "data": {
            "text/plain": [
              "<IPython.core.display.Markdown object>"
            ],
            "text/markdown": "**BFS**: Steps: 0, Nodes: 181440, Time: 11.2649s"
          },
          "metadata": {}
        },
        {
          "output_type": "display_data",
          "data": {
            "text/plain": [
              "<IPython.core.display.Markdown object>"
            ],
            "text/markdown": "**DFS**: Steps: 0, Nodes: 155733, Time: 7.0052s"
          },
          "metadata": {}
        },
        {
          "output_type": "display_data",
          "data": {
            "text/plain": [
              "<IPython.core.display.Markdown object>"
            ],
            "text/markdown": "### Trial 2"
          },
          "metadata": {}
        },
        {
          "output_type": "display_data",
          "data": {
            "text/plain": [
              "<IPython.core.display.Markdown object>"
            ],
            "text/markdown": "**BFS**: Steps: 21, Nodes: 69605, Time: 3.4225s"
          },
          "metadata": {}
        },
        {
          "output_type": "display_data",
          "data": {
            "text/plain": [
              "<IPython.core.display.Markdown object>"
            ],
            "text/markdown": "**DFS**: Steps: 0, Nodes: 155813, Time: 7.4885s"
          },
          "metadata": {}
        },
        {
          "output_type": "display_data",
          "data": {
            "text/plain": [
              "<IPython.core.display.Markdown object>"
            ],
            "text/markdown": "### Trial 3"
          },
          "metadata": {}
        },
        {
          "output_type": "display_data",
          "data": {
            "text/plain": [
              "<IPython.core.display.Markdown object>"
            ],
            "text/markdown": "**BFS**: Steps: 0, Nodes: 181440, Time: 9.8928s"
          },
          "metadata": {}
        },
        {
          "output_type": "display_data",
          "data": {
            "text/plain": [
              "<IPython.core.display.Markdown object>"
            ],
            "text/markdown": "**DFS**: Steps: 0, Nodes: 161308, Time: 6.3147s"
          },
          "metadata": {}
        },
        {
          "output_type": "display_data",
          "data": {
            "text/plain": [
              "<IPython.core.display.Markdown object>"
            ],
            "text/markdown": "### Trial 4"
          },
          "metadata": {}
        },
        {
          "output_type": "display_data",
          "data": {
            "text/plain": [
              "<IPython.core.display.Markdown object>"
            ],
            "text/markdown": "**BFS**: Steps: 0, Nodes: 181440, Time: 9.8005s"
          },
          "metadata": {}
        },
        {
          "output_type": "display_data",
          "data": {
            "text/plain": [
              "<IPython.core.display.Markdown object>"
            ],
            "text/markdown": "**DFS**: Steps: 0, Nodes: 155733, Time: 5.9598s"
          },
          "metadata": {}
        },
        {
          "output_type": "display_data",
          "data": {
            "text/plain": [
              "<IPython.core.display.Markdown object>"
            ],
            "text/markdown": "### Trial 5"
          },
          "metadata": {}
        },
        {
          "output_type": "display_data",
          "data": {
            "text/plain": [
              "<IPython.core.display.Markdown object>"
            ],
            "text/markdown": "**BFS**: Steps: 22, Nodes: 89061, Time: 5.5254s"
          },
          "metadata": {}
        },
        {
          "output_type": "display_data",
          "data": {
            "text/plain": [
              "<IPython.core.display.Markdown object>"
            ],
            "text/markdown": "**DFS**: Steps: 998, Nodes: 53383, Time: 1.8252s"
          },
          "metadata": {}
        }
      ]
    },
    {
      "cell_type": "code",
      "source": [
        "display(Markdown(\"\"\"\n",
        "## Comparative Analysis: BFS vs DFS for 8-Puzzle\n",
        "\n",
        "### 1. Number of Steps Required\n",
        "\n",
        "**BFS (Breadth-First Search)**:\n",
        "- Always finds the shortest path to the solution\n",
        "- Explores all nodes at depth d before moving to depth d+1\n",
        "- Guaranteed to find optimal solution if one exists\n",
        "\n",
        "**DFS (Depth-First Search)**:\n",
        "- May find a solution faster but not necessarily the shortest path\n",
        "- Can get stuck in deep branches before finding solution\n",
        "- Requires depth limiting for practical implementation\n",
        "\n",
        "### 2. Performance Characteristics\n",
        "\n",
        "**When BFS is faster**:\n",
        "- When the solution is at shallow depth\n",
        "- When the branching factor is moderate\n",
        "- When we need the optimal solution\n",
        "\n",
        "**When DFS is faster**:\n",
        "- When the solution is in a deep branch that DFS explores early\n",
        "- When the search space has many dead ends at shallow levels\n",
        "- When memory is a constraint (BFS uses more memory)\n",
        "\n",
        "### 3. Memory Usage\n",
        "\n",
        "**BFS**: O(b^d) where b is branching factor, d is solution depth\n",
        "**DFS**: O(b×d) - much more memory efficient\n",
        "\n",
        "### 4. Practical Observations\n",
        "\n",
        "From our implementation:\n",
        "- BFS typically finds the optimal solution with fewer steps\n",
        "- DFS may find a solution faster but with more steps\n",
        "- BFS explores more systematically but uses more memory\n",
        "- DFS can be more efficient for certain puzzle configurations\n",
        "\n",
        "### 5. Recommendation\n",
        "\n",
        "For the 8-puzzle problem:\n",
        "- **BFS is generally preferred** as it guarantees optimality\n",
        "- Maximum solution depth is only 31 moves, making BFS feasible\n",
        "- DFS should be used with iterative deepening for optimal performance\n",
        "- BFS is more reliable for this specific problem\n",
        "\n",
        "**Example**:\n",
        "If the blank is only 2 moves away from target position:\n",
        "- BFS will find it in 2 steps exploring ~b² nodes\n",
        "- DFS might explore many unnecessary deep paths first\n",
        "\"\"\"))\n",
        "\n",
        "# Additional statistics\n",
        "bfs_avg_steps = np.mean([r['steps'] for r in bfs_results if r['solvable']])\n",
        "dfs_avg_steps = np.mean([r['steps'] for r in dfs_results if r['solvable']])\n",
        "bfs_avg_time = np.mean([r['time'] for r in bfs_results])\n",
        "dfs_avg_time = np.mean([r['time'] for r in dfs_results])\n",
        "\n",
        "display(Markdown(f\"\"\"\n",
        "### Statistical Summary (Averages)\n",
        "- **BFS Average Steps**: {bfs_avg_steps:.2f}\n",
        "- **DFS Average Steps**: {dfs_avg_steps:.2f}\n",
        "- **BFS Average Time**: {bfs_avg_time:.4f}s\n",
        "- **DFS Average Time**: {dfs_avg_time:.4f}s\n",
        "\"\"\"))"
      ],
      "metadata": {
        "colab": {
          "base_uri": "https://localhost:8080/",
          "height": 972
        },
        "id": "LpLoiyfQbXEB",
        "outputId": "a4af3aad-c93d-4811-9f10-615c45cab2fd"
      },
      "id": "LpLoiyfQbXEB",
      "execution_count": 3,
      "outputs": [
        {
          "output_type": "display_data",
          "data": {
            "text/plain": [
              "<IPython.core.display.Markdown object>"
            ],
            "text/markdown": "\n## Comparative Analysis: BFS vs DFS for 8-Puzzle\n\n### 1. Number of Steps Required\n\n**BFS (Breadth-First Search)**:\n- Always finds the shortest path to the solution\n- Explores all nodes at depth d before moving to depth d+1\n- Guaranteed to find optimal solution if one exists\n\n**DFS (Depth-First Search)**:\n- May find a solution faster but not necessarily the shortest path\n- Can get stuck in deep branches before finding solution\n- Requires depth limiting for practical implementation\n\n### 2. Performance Characteristics\n\n**When BFS is faster**:\n- When the solution is at shallow depth\n- When the branching factor is moderate\n- When we need the optimal solution\n\n**When DFS is faster**:\n- When the solution is in a deep branch that DFS explores early\n- When the search space has many dead ends at shallow levels\n- When memory is a constraint (BFS uses more memory)\n\n### 3. Memory Usage\n\n**BFS**: O(b^d) where b is branching factor, d is solution depth\n**DFS**: O(b×d) - much more memory efficient\n\n### 4. Practical Observations\n\nFrom our implementation:\n- BFS typically finds the optimal solution with fewer steps\n- DFS may find a solution faster but with more steps\n- BFS explores more systematically but uses more memory\n- DFS can be more efficient for certain puzzle configurations\n\n### 5. Recommendation\n\nFor the 8-puzzle problem:\n- **BFS is generally preferred** as it guarantees optimality\n- Maximum solution depth is only 31 moves, making BFS feasible\n- DFS should be used with iterative deepening for optimal performance\n- BFS is more reliable for this specific problem\n\n**Example**: \nIf the blank is only 2 moves away from target position:\n- BFS will find it in 2 steps exploring ~b² nodes\n- DFS might explore many unnecessary deep paths first\n"
          },
          "metadata": {}
        },
        {
          "output_type": "display_data",
          "data": {
            "text/plain": [
              "<IPython.core.display.Markdown object>"
            ],
            "text/markdown": "\n### Statistical Summary (Averages)\n- **BFS Average Steps**: 21.50\n- **DFS Average Steps**: 998.00\n- **BFS Average Time**: 7.9812s\n- **DFS Average Time**: 5.7187s\n"
          },
          "metadata": {}
        }
      ]
    },
    {
      "cell_type": "code",
      "source": [],
      "metadata": {
        "id": "eeZcgWO4bXbi"
      },
      "id": "eeZcgWO4bXbi",
      "execution_count": null,
      "outputs": []
    }
  ],
  "metadata": {
    "kernelspec": {
      "display_name": "Python 3",
      "name": "python3"
    },
    "language_info": {
      "name": "python"
    },
    "required_libs": [],
    "colab": {
      "provenance": [],
      "toc_visible": true,
      "include_colab_link": true
    }
  },
  "nbformat": 4,
  "nbformat_minor": 5
}